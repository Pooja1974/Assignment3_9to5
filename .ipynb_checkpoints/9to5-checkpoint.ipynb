{
 "cells": [
  {
   "cell_type": "markdown",
   "metadata": {
    "azdata_cell_guid": "28ea70c5-f0be-4197-b6c0-ade22886a708"
   },
   "source": [
    "# <span style=\"font-size: 20pt; font-family: Montserrat, sans-serif; color: rgb(92, 148, 206); background-color: rgb(255, 255, 255); font-weight: 700; font-variant-east-asian: normal; vertical-align: baseline; white-space: pre-wrap;\">Graded Assignment 3: 9 to 5</span>\n",
    "\n",
    "  \n",
    "\n",
    "<span style=\"font-size: 10pt; font-family: &quot;Times New Roman&quot;; color: rgb(102, 102, 102); background-color: rgb(255, 255, 255); font-variant-east-asian: normal; vertical-align: baseline; white-space: pre-wrap;\">Time to show off your SQL skills! For each question, copy the SQL query you used and make note of the answer.</span>\n",
    "\n",
    "  \n",
    "\n",
    "## <span style=\"font-size: 12pt; font-family: Montserrat, sans-serif; color: rgb(53, 74, 95); background-color: rgb(255, 255, 255); font-weight: 700; font-variant-east-asian: normal; vertical-align: baseline; white-space: pre-wrap;\">The Dataset</span>\n",
    "\n",
    "<span style=\"font-size: 10pt; font-family: &quot;Times New Roman&quot;; color: rgb(102, 102, 102); background-color: rgb(255, 255, 255); font-variant-east-asian: normal; vertical-align: baseline; white-space: pre-wrap;\">For this assignment, you will be using the Bureau of Labor Statistics (BLS) Current Employment Survey (CES) results which can be found on</span> [<span style=\"font-size: 10pt; font-family: &quot;Times New Roman&quot;; color: rgb(17, 85, 204); background-color: rgb(255, 255, 255); font-variant-east-asian: normal; text-decoration-line: underline; vertical-align: baseline; white-space: pre-wrap;\">Kaggle</span>](https://www.kaggle.com/bls/employment)<span style=\"font-size: 10pt; font-family: &quot;Times New Roman&quot;; color: rgb(102, 102, 102); background-color: rgb(255, 255, 255); font-variant-east-asian: normal; vertical-align: baseline; white-space: pre-wrap;\">.</span>\n",
    "\n",
    "  \n",
    "\n",
    "## <span style=\"font-size: 12pt; font-family: Montserrat, sans-serif; color: rgb(53, 74, 95); background-color: rgb(255, 255, 255); font-weight: 700; font-variant-east-asian: normal; vertical-align: baseline; white-space: pre-wrap;\">Business Issue</span>\n",
    "\n",
    "<span style=\"font-size: 10pt; font-family: &quot;Times New Roman&quot;; color: rgb(102, 102, 102); background-color: rgb(255, 255, 255); font-variant-east-asian: normal; vertical-align: baseline; white-space: pre-wrap;\">You are working for the Bureau of Labor Statistics with the United States government and have been approached by your boss with an important meeting request. You have been asked by your supervisor to meet with Dolly Parton whose nonprofit is looking to shed light on the state of employment in the United States. As part of the 9 to 5 project, their research is focused on production and nonsupervisory employees and how those employees fare compared to all employees in the United States. While the data the BLS collects from the CES is publicly available, Dolly Parton and her colleagues need your assistance navigating the thousands of rows in each table in LaborStatisticsDB.</span>\n",
    "\n",
    "  \n",
    "\n",
    "## <span style=\"font-size: 12pt; font-family: Montserrat, sans-serif; color: rgb(53, 74, 95); background-color: rgb(255, 255, 255); font-weight: 700; font-variant-east-asian: normal; vertical-align: baseline; white-space: pre-wrap;\">About the Dataset</span>\n",
    "\n",
    "<span style=\"font-size: 10pt; font-family: &quot;Times New Roman&quot;; color: rgb(102, 102, 102); background-color: rgb(255, 255, 255); font-variant-east-asian: normal; vertical-align: baseline; white-space: pre-wrap;\">This dataset comes directly from the Bureau of Labor Statistics’ Current Employment Survey (CES). Here are some things you need to know:</span>\n",
    "\n",
    "1. <span style=\"font-size: 10pt; background-color: rgb(255, 255, 255); font-variant-east-asian: normal; vertical-align: baseline; white-space: pre-wrap;\">The industry table contains an NAICS code. This is different from the industry code. NAICS stands for North American Industry Classification System.</span>\n",
    "    \n",
    "2. <span style=\"font-size: 10pt; background-color: rgb(255, 255, 255); font-variant-east-asian: normal; vertical-align: baseline; white-space: pre-wrap;\">Series ID is composed of multiple different codes. CES stands for Current Employment Survey, the name of the survey which collected the data. The industry code as specified by the BLS and the data type code as specified in the datatype table.</span>\n",
    "    \n",
    "\n",
    "  \n",
    "\n",
    "## <span style=\"font-size: 12pt; font-family: Montserrat, sans-serif; color: rgb(53, 74, 95); background-color: rgb(255, 255, 255); font-weight: 700; font-variant-east-asian: normal; vertical-align: baseline; white-space: pre-wrap;\">Set Up</span>\n",
    "\n",
    "<span style=\"font-size: 10pt; font-family: &quot;Times New Roman&quot;; color: rgb(102, 102, 102); background-color: rgb(255, 255, 255); font-variant-east-asian: normal; vertical-align: baseline; white-space: pre-wrap;\">To connect to the database, use the same connection info used during the SQL lessons.&nbsp;</span> \n",
    "\n",
    "<span style=\"font-size: 10pt; font-family: &quot;Times New Roman&quot;; color: rgb(102, 102, 102); background-color: rgb(255, 255, 255); font-variant-east-asian: normal; vertical-align: baseline; white-space: pre-wrap;\">For the assignment, we will be using the LaborStatisticsDB database.</span>\n",
    "\n",
    "  \n",
    "\n",
    "## <span style=\"font-size: 12pt; font-family: Montserrat, sans-serif; color: rgb(53, 74, 95); background-color: rgb(255, 255, 255); font-weight: 700; font-variant-east-asian: normal; vertical-align: baseline; white-space: pre-wrap;\">Database Exploration</span>\n",
    "\n",
    "<span style=\"font-size: 10pt; font-family: &quot;Times New Roman&quot;; color: rgb(102, 102, 102); background-color: rgb(255, 255, 255); font-variant-east-asian: normal; vertical-align: baseline; white-space: pre-wrap;\">To start with, let’s get to know the database further.</span>\n",
    "\n",
    "1. <span style=\"background-color: rgb(255, 255, 255); color: rgb(102, 102, 102); font-family: &quot;Times New Roman&quot;; font-size: 10pt; white-space: pre-wrap;\">Use this space to make note of each table in the database, the columns within each table, each column’s data type, and how the tables are connected. You can write this down or draw a diagram. Whatever method helps you get an understanding of what is going on with LaborStatisticsDB.</span>"
   ]
  },
  {
   "cell_type": "markdown",
   "metadata": {
    "azdata_cell_guid": "aeae906c-752c-49d3-b482-3ed6a4f54b6e"
   },
   "source": [
    "To add a photo, diagram or document to your file, drop the file into the folder that holds this notebook.  Use the the link button to the right of the  \\</\\> symbol in the gray part of this cell, the link is just the name of your file."
   ]
  },
  {
   "cell_type": "code",
   "execution_count": 4,
   "metadata": {},
   "outputs": [
    {
     "ename": "SyntaxError",
     "evalue": "invalid syntax (Temp/ipykernel_41084/1601100091.py, line 1)",
     "output_type": "error",
     "traceback": [
      "\u001b[1;36m  File \u001b[1;32m\"C:\\Users\\pooja\\AppData\\Local\\Temp/ipykernel_41084/1601100091.py\"\u001b[1;36m, line \u001b[1;32m1\u001b[0m\n\u001b[1;33m    USE LaborStatisticsDB\u001b[0m\n\u001b[1;37m        ^\u001b[0m\n\u001b[1;31mSyntaxError\u001b[0m\u001b[1;31m:\u001b[0m invalid syntax\n"
     ]
    }
   ],
   "source": [
    "USE LaborStatisticsDB\n",
    "GO"
   ]
  },
  {
   "cell_type": "code",
   "execution_count": 5,
   "metadata": {
    "azdata_cell_guid": "dbf3633e-8503-49e6-b128-cf010d1558cf",
    "scrolled": true
   },
   "outputs": [
    {
     "ename": "SyntaxError",
     "evalue": "invalid syntax (Temp/ipykernel_41084/3306102184.py, line 1)",
     "output_type": "error",
     "traceback": [
      "\u001b[1;36m  File \u001b[1;32m\"C:\\Users\\pooja\\AppData\\Local\\Temp/ipykernel_41084/3306102184.py\"\u001b[1;36m, line \u001b[1;32m1\u001b[0m\n\u001b[1;33m    use LaborStatisticsDB;\u001b[0m\n\u001b[1;37m        ^\u001b[0m\n\u001b[1;31mSyntaxError\u001b[0m\u001b[1;31m:\u001b[0m invalid syntax\n"
     ]
    }
   ],
   "source": [
    "use LaborStatisticsDB;\n",
    "-- Get a list of tables and views in the current database\n",
    "SELECT table_catalog [database], table_schema [schema], table_name [name], table_type [type]\n",
    "FROM INFORMATION_SCHEMA.TABLES\n",
    "GO\n",
    "\n",
    "\n",
    "<a href=\"captur1.png\">click</a>\n",
    "-----------------------------------------------\n",
    "\n",
    "\n",
    "---- the columns within each table, each column’s data type\n",
    "\n",
    "use LaborStatisticsDB;\n",
    "SELECT \n",
    "TABLE_CATALOG,\n",
    "TABLE_SCHEMA,\n",
    "TABLE_NAME, \n",
    "COLUMN_NAME, \n",
    "DATA_TYPE \n",
    "FROM INFORMATION_SCHEMA.COLUMNS \n",
    "GO\n",
    "\n",
    "--------FOr Primary key(Capture3.png)\n",
    "use LaborStatisticsDB;\n",
    "select schema_name(tab.schema_id) as [schema_name], \n",
    "    pk.[name] as pk_name,\n",
    "    ic.index_column_id as column_id,\n",
    "    col.[name] as column_name, \n",
    "    tab.[name] as table_name\n",
    "from sys.tables tab\n",
    "    inner join sys.indexes pk\n",
    "        on tab.object_id = pk.object_id \n",
    "        and pk.is_primary_key = 1\n",
    "    inner join sys.index_columns ic\n",
    "        on ic.object_id = pk.object_id\n",
    "        and ic.index_id = pk.index_id\n",
    "    inner join sys.columns col\n",
    "        on pk.object_id = col.object_id\n",
    "        and col.column_id = ic.column_id\n",
    "order by schema_name(tab.schema_id),\n",
    "    pk.[name],\n",
    "    ic.index_column_id\n",
    "GO\n",
    "\n",
    "-----For keys information relatively(Capture4.XML)\n",
    "\n",
    "use LaborStatisticsDB;\n",
    "select schema_name(tab.schema_id) + '.' + tab.name as [table],\n",
    "    col.column_id,\n",
    "    col.name as column_name,\n",
    "    case when fk.object_id is not null then '>-' else null end as rel,\n",
    "    schema_name(pk_tab.schema_id) + '.' + pk_tab.name as primary_table,\n",
    "    pk_col.name as pk_column_name,\n",
    "    fk_cols.constraint_column_id as no,\n",
    "    fk.name as fk_constraint_name\n",
    "from sys.tables tab\n",
    "    inner join sys.columns col \n",
    "        on col.object_id = tab.object_id\n",
    "    left outer join sys.foreign_key_columns fk_cols\n",
    "        on fk_cols.parent_object_id = tab.object_id\n",
    "        and fk_cols.parent_column_id = col.column_id\n",
    "    left outer join sys.foreign_keys fk\n",
    "        on fk.object_id = fk_cols.constraint_object_id\n",
    "    left outer join sys.tables pk_tab\n",
    "        on pk_tab.object_id = fk_cols.referenced_object_id\n",
    "    left outer join sys.columns pk_col\n",
    "        on pk_col.column_id = fk_cols.referenced_column_id\n",
    "        and pk_col.object_id = fk_cols.referenced_object_id\n",
    "order by schema_name(tab.schema_id) + '.' + tab.name,\n",
    "    col.column_id\n",
    "    GO\n",
    "\n"
   ]
  },
  {
   "cell_type": "code",
   "execution_count": null,
   "metadata": {},
   "outputs": [],
   "source": []
  },
  {
   "cell_type": "markdown",
   "metadata": {
    "azdata_cell_guid": "01b111b7-baf1-4617-88bc-cd442826c9c9"
   },
   "source": [
    "2. <span style=\"background-color: rgb(255, 255, 255); color: rgb(102, 102, 102); font-family: Arvo, serif; font-size: 10pt; white-space: pre-wrap;\">What is the datatype for women employees?</span>"
   ]
  },
  {
   "cell_type": "code",
   "execution_count": 2,
   "metadata": {
    "azdata_cell_guid": "02fa547c-0bb7-4a40-81c2-f5c05154df04"
   },
   "outputs": [
    {
     "ename": "SyntaxError",
     "evalue": "invalid syntax (Temp/ipykernel_41084/1194324267.py, line 1)",
     "output_type": "error",
     "traceback": [
      "\u001b[1;36m  File \u001b[1;32m\"C:\\Users\\pooja\\AppData\\Local\\Temp/ipykernel_41084/1194324267.py\"\u001b[1;36m, line \u001b[1;32m1\u001b[0m\n\u001b[1;33m    USE LaborStatisticsDB;\u001b[0m\n\u001b[1;37m        ^\u001b[0m\n\u001b[1;31mSyntaxError\u001b[0m\u001b[1;31m:\u001b[0m invalid syntax\n"
     ]
    }
   ],
   "source": [
    "USE LaborStatisticsDB;\n",
    "GO\n",
    "SELECT [data_type_code],[data_type_text]\n",
    "FROM [LaborStatisticsDB].[dbo].[datatype]\n",
    "where [data_type_text]= 'Women Employees';\n",
    "-- Data Type for Women Employees is 10\n",
    "\n",
    "\n",
    "data_type_code=10"
   ]
  },
  {
   "cell_type": "markdown",
   "metadata": {
    "azdata_cell_guid": "325f85cc-9545-47b3-b975-3aab6278e4ea"
   },
   "source": [
    "3. <span style=\"background-color: rgb(255, 255, 255); font-size: 10pt; white-space: pre-wrap; color: rgb(102, 102, 102); font-family: Arvo, serif;\">What is the series id for&nbsp; women employees in the commercial banking industry in the financial activities supersector?</span>"
   ]
  },
  {
   "cell_type": "code",
   "execution_count": 5,
   "metadata": {
    "azdata_cell_guid": "1315af1f-45f8-457d-8bbe-8e9f46303fca"
   },
   "outputs": [
    {
     "ename": "SyntaxError",
     "evalue": "invalid syntax (Temp/ipykernel_35788/1610832013.py, line 1)",
     "output_type": "error",
     "traceback": [
      "\u001b[1;36m  File \u001b[1;32m\"C:\\Users\\pooja\\AppData\\Local\\Temp/ipykernel_35788/1610832013.py\"\u001b[1;36m, line \u001b[1;32m1\u001b[0m\n\u001b[1;33m    USE LaborStatisticsDB;\u001b[0m\n\u001b[1;37m        ^\u001b[0m\n\u001b[1;31mSyntaxError\u001b[0m\u001b[1;31m:\u001b[0m invalid syntax\n"
     ]
    }
   ],
   "source": [
    "USE LaborStatisticsDB;\n",
    "GO\n",
    "SELECT * from  dbo.supersector where supersector_name Like '%Financial%'\n",
    "SELECT * from dbo.industry where industry_name='Commercial banking'\n",
    "\n",
    "Select * from dbo.series where supersector_code=55 AND industry_code=55522110 And data_type_code=10\n",
    "\n",
    "\n",
    "\n"
   ]
  },
  {
   "cell_type": "markdown",
   "metadata": {
    "azdata_cell_guid": "ec1dfc63-ad41-4349-8c26-1d326ace8c6c"
   },
   "source": [
    "## <span style=\"font-size: 12pt; font-family: Montserrat, sans-serif; color: rgb(53, 74, 95); background-color: rgb(255, 255, 255); font-weight: 700; font-variant-numeric: normal; font-variant-east-asian: normal; vertical-align: baseline; white-space: pre-wrap;\">Join in on the Fun</span>\n",
    "\n",
    "<span style=\"font-size: 10pt; font-family: Arvo, serif; color: rgb(102, 102, 102); background-color: rgb(255, 255, 255); font-variant-numeric: normal; font-variant-east-asian: normal; vertical-align: baseline; white-space: pre-wrap;\">Time to start joining! You can choose the type of join you use, just make sure to make a&nbsp; note!</span>\n",
    "\n",
    "1. <span style=\"background-color: rgb(255, 255, 255); font-size: 10pt; white-space: pre-wrap; color: rgb(102, 102, 102); font-family: Arvo, serif;\">Join&nbsp; annual_2016 with series on series_id. We only want the data in the annual_2016 table to be included in the result.</span>"
   ]
  },
  {
   "cell_type": "code",
   "execution_count": 4,
   "metadata": {
    "azdata_cell_guid": "cf90f0b4-c482-4fbb-ac17-d2244881caab"
   },
   "outputs": [
    {
     "ename": "SyntaxError",
     "evalue": "invalid syntax (Temp/ipykernel_35788/3367009968.py, line 1)",
     "output_type": "error",
     "traceback": [
      "\u001b[1;36m  File \u001b[1;32m\"C:\\Users\\pooja\\AppData\\Local\\Temp/ipykernel_35788/3367009968.py\"\u001b[1;36m, line \u001b[1;32m1\u001b[0m\n\u001b[1;33m    USE LaborStatisticsDB;\u001b[0m\n\u001b[1;37m        ^\u001b[0m\n\u001b[1;31mSyntaxError\u001b[0m\u001b[1;31m:\u001b[0m invalid syntax\n"
     ]
    }
   ],
   "source": [
    "USE LaborStatisticsDB;\n",
    "GO\n",
    "SELECT * From dbo.annual_2016 A  LEFT Join dbo.series B ON A.series_id =B.series_id"
   ]
  },
  {
   "cell_type": "markdown",
   "metadata": {
    "azdata_cell_guid": "710b59ae-224b-4f9d-b1a4-4a6b89048bbb"
   },
   "source": [
    "2. <span style=\"background-color: rgb(255, 255, 255); font-size: 10pt; white-space: pre-wrap; color: rgb(102, 102, 102); font-family: Arvo, serif;\">Join series and datatype on data_type_code</span>"
   ]
  },
  {
   "cell_type": "code",
   "execution_count": null,
   "metadata": {
    "azdata_cell_guid": "fca61371-c9b5-4823-a4b4-34c1279ece3e"
   },
   "outputs": [],
   "source": [
    "USE LaborStatisticsDB;\n",
    "GO\n",
    "SELECT * From dbo.series A  left join datatype B ON A.data_type_code =B.data_type_code\n",
    "---using left join to get all fields from Series \n",
    "---Results_join_2.xls"
   ]
  },
  {
   "cell_type": "markdown",
   "metadata": {
    "azdata_cell_guid": "78ac8ba4-2a6a-426f-af30-6b56d9d09054"
   },
   "source": [
    "3. <span style=\"background-color: rgb(255, 255, 255); font-size: 10pt; white-space: pre-wrap; color: rgb(102, 102, 102); font-family: Arvo, serif;\">Join series and industry on industry_code</span>"
   ]
  },
  {
   "cell_type": "code",
   "execution_count": null,
   "metadata": {
    "azdata_cell_guid": "ac022766-e280-4d95-8362-1f2b18773662"
   },
   "outputs": [],
   "source": [
    "USE LaborStatisticsDB;\n",
    "SELECT*\n",
    "FROM series\n",
    "JOIN industry\n",
    "ON series.industry_code=industry.industry_code"
   ]
  },
  {
   "cell_type": "markdown",
   "metadata": {
    "azdata_cell_guid": "f4290cc1-f824-4586-8850-59d926bf4460"
   },
   "source": [
    "## <span style=\"font-size: 12pt; font-family: Montserrat, sans-serif; color: rgb(53, 74, 95); background-color: rgb(255, 255, 255); font-weight: 700; font-variant-numeric: normal; font-variant-east-asian: normal; vertical-align: baseline; white-space: pre-wrap;\">Aggregate Your Friends and Code some SQL</span>\n",
    "\n",
    "<span style=\"font-size: 10pt; font-family: Arvo, serif; color: rgb(102, 102, 102); background-color: rgb(255, 255, 255); font-variant-numeric: normal; font-variant-east-asian: normal; vertical-align: baseline; white-space: pre-wrap;\">Put together the following:</span>\n",
    "\n",
    "1. <span style=\"background-color: rgb(255, 255, 255); font-size: 10pt; white-space: pre-wrap; color: rgb(102, 102, 102); font-family: Arvo, serif;\">How many employees were reported in 2016 in all industries? Round to the nearest whole number.&nbsp; No chopping people into little bits, please.</span>"
   ]
  },
  {
   "cell_type": "code",
   "execution_count": null,
   "metadata": {
    "azdata_cell_guid": "25099068-a629-4eb5-afca-ed3748c40605"
   },
   "outputs": [],
   "source": [
    "SELECT Round(Sum(A.[value]),0) as Total_Employees\n",
    "From annual_2016 As A\n",
    "Join series as S\n",
    "ON A.series_id=S.series_id\n",
    "where s.series_title ='All Employees'\n",
    "\n"
   ]
  },
  {
   "cell_type": "markdown",
   "metadata": {
    "azdata_cell_guid": "6358fab4-b933-4646-bef1-4be66dcd4317"
   },
   "source": [
    "2. <span style=\"background-color: rgb(255, 255, 255); font-size: 10pt; white-space: pre-wrap; color: rgb(102, 102, 102); font-family: Arvo, serif;\">How many women employees were reported in 2016 in all industries? Round to the nearest whole number.&nbsp;</span>"
   ]
  },
  {
   "cell_type": "code",
   "execution_count": null,
   "metadata": {
    "azdata_cell_guid": "7bb0bfb7-b9e3-4672-b354-7ca705bb0c3b"
   },
   "outputs": [],
   "source": [
    "SELECT CEILING(SUM ([value]) )\n",
    "  FROM [LaborStatisticsDB].[dbo].[annual_2016]\n",
    "join series\n",
    "    on SERIES.series_id=annual_2016.series_id where\n",
    "data_type_code=10"
   ]
  },
  {
   "cell_type": "markdown",
   "metadata": {
    "azdata_cell_guid": "246ea683-2075-4337-878d-fbfdd49b2dd7"
   },
   "source": [
    "3. <span style=\"background-color: rgb(255, 255, 255); font-size: 10pt; white-space: pre-wrap; color: rgb(102, 102, 102); font-family: Arvo, serif;\">How many production/nonsupervisory employees were reported in 2016? Round to the nearest whole number.&nbsp;</span>"
   ]
  },
  {
   "cell_type": "code",
   "execution_count": null,
   "metadata": {
    "azdata_cell_guid": "110f2591-069b-4bbe-87c7-2bcf76c3d36f"
   },
   "outputs": [],
   "source": [
    "SELECT Round(Sum(A.[value]),0) as Total_Production_NonSupervisory_Employees\n",
    "From annual_2016 As A\n",
    "Join series as S\n",
    "ON A.series_id=S.series_id\n",
    "where s.series_title = 'Production and nonsupervisory employees'\n",
    "\n",
    "---- 1263650"
   ]
  },
  {
   "cell_type": "markdown",
   "metadata": {
    "azdata_cell_guid": "9caa7f57-e39d-4b7a-b705-25f8fe29d60b"
   },
   "source": [
    "4. <span style=\"background-color: rgb(255, 255, 255); font-size: 10pt; white-space: pre-wrap; color: rgb(102, 102, 102); font-family: Arvo, serif;\">In January 2017, what is the average weekly hours worked by production and nonsupervisory employees across all industries?</span>"
   ]
  },
  {
   "cell_type": "code",
   "execution_count": null,
   "metadata": {
    "azdata_cell_guid": "9f07fa8a-4217-439a-a9cd-831240d4bc9e"
   },
   "outputs": [],
   "source": [
    "SELECT Round(AVG(J.[value]),0) as WeeklyHoursProductionNonSupervisoryEmployees\n",
    "From january_2017 as J\n",
    "Join series as S\n",
    "ON J.series_id=S.series_id\n",
    "where s.series_title ='Average weekly hours of production and nonsupervisory employees'\n",
    "\n",
    "---Result 36"
   ]
  },
  {
   "cell_type": "markdown",
   "metadata": {
    "azdata_cell_guid": "9c48ff2e-a6eb-4f02-8df2-988e219fbc00"
   },
   "source": [
    "5. <span style=\"background-color: rgb(255, 255, 255); font-size: 10pt; white-space: pre-wrap; color: rgb(102, 102, 102); font-family: Arvo, serif;\">What is the total weekly payroll for production and nonsupervisory employees across all industries in January 2017? Round to the nearest penny, please.</span>"
   ]
  },
  {
   "cell_type": "code",
   "execution_count": null,
   "metadata": {
    "azdata_cell_guid": "c565641b-f1fa-4dbb-9320-24adfda97ca5"
   },
   "outputs": [],
   "source": [
    "SELECT Round(Sum(J.[value]),2) as WeeklyPayRollProduction_NonSupervisoryEmployees\n",
    "From january_2017 as J\n",
    "Join series as S\n",
    "ON J.series_id=S.series_id\n",
    "where s.series_title ='Aggregate weekly payrolls of production and nonsupervisory employees'\n",
    "\n",
    "---Result 1838753220"
   ]
  },
  {
   "cell_type": "markdown",
   "metadata": {
    "azdata_cell_guid": "862fd406-4fff-49bb-9d2b-232275a06405"
   },
   "source": [
    "6. <span style=\"background-color: rgb(255, 255, 255); font-size: 10pt; white-space: pre-wrap; color: rgb(102, 102, 102); font-family: Arvo, serif;\">In January 2017, which industry was the average weekly hours worked by production and nonsupervisory employees the highest? Which industry was the lowest?</span>"
   ]
  },
  {
   "cell_type": "code",
   "execution_count": 3,
   "metadata": {
    "azdata_cell_guid": "01e11050-5f2f-4d22-92e0-2b3024b80a5f"
   },
   "outputs": [
    {
     "ename": "SyntaxError",
     "evalue": "invalid syntax (Temp/ipykernel_41084/2021375483.py, line 1)",
     "output_type": "error",
     "traceback": [
      "\u001b[1;36m  File \u001b[1;32m\"C:\\Users\\pooja\\AppData\\Local\\Temp/ipykernel_41084/2021375483.py\"\u001b[1;36m, line \u001b[1;32m1\u001b[0m\n\u001b[1;33m    SELECT I.industry_name,Avg(Value) as AverageWeeklyHoursWorked\u001b[0m\n\u001b[1;37m           ^\u001b[0m\n\u001b[1;31mSyntaxError\u001b[0m\u001b[1;31m:\u001b[0m invalid syntax\n"
     ]
    }
   ],
   "source": [
    "SELECT I.industry_name,Avg(Value) as AverageWeeklyHoursWorked\n",
    "From Series as S\n",
    "Join january_2017 as J\n",
    "on S.series_id=J.series_id\n",
    "Join industry as I \n",
    "on S.industry_code=I.industry_code\n",
    "where S.series_title='Average weekly hours of production and nonsupervisory employees'\n",
    "GROUP BY I.industry_name\n",
    "--Order BY Avg(Value)\n",
    "Order BY Avg(Value) DESC\n",
    "\n",
    "-- Fitness and recreational sports centers have lowest Average Weekly Hours of 16.85 \n",
    "-- Motor vehicle power train components have highest Average Weekly Hours of 49.6"
   ]
  },
  {
   "cell_type": "markdown",
   "metadata": {
    "azdata_cell_guid": "a53f4113-60c6-46d1-b9a3-34610c61d4f9"
   },
   "source": [
    "7. <span style=\"background-color: rgb(255, 255, 255); font-size: 10pt; white-space: pre-wrap; color: rgb(102, 102, 102); font-family: Arvo, serif;\">In January 2021, which industry was the total weekly payroll for production and nonsupervisory employees the highest? Which industry was the lowest?</span>"
   ]
  },
  {
   "cell_type": "code",
   "execution_count": null,
   "metadata": {
    "azdata_cell_guid": "583695e6-7438-4e03-8970-1fe0c677a793"
   },
   "outputs": [],
   "source": [
    "SELECT I.industry_name,SUM(Value) as Total_WeeklyPayroll_Worked\n",
    "From Series as S\n",
    "Join january_2017 as J\n",
    "on S.series_id=J.series_id\n",
    "Join industry as I \n",
    "on S.industry_code=I.industry_code\n",
    "where S.series_title='Aggregate weekly payrolls of production and nonsupervisory employees'\n",
    "GROUP BY I.industry_name\n",
    "--Order BY Sum(Value)\n",
    "Order BY Sum([value]) DESC\n",
    "\n",
    "--Coin-operated laundries and drycleaners Have lowest Total weekly payroll for production\n",
    "--Total private Have Highest Total weekly payroll for production"
   ]
  },
  {
   "cell_type": "markdown",
   "metadata": {
    "azdata_cell_guid": "e98ec195-5399-4718-83ef-54fb954662a5"
   },
   "source": [
    "## <span style=\"font-size: 12pt; font-family: Montserrat, sans-serif; color: rgb(53, 74, 95); background-color: rgb(255, 255, 255); font-weight: 700; font-variant-numeric: normal; font-variant-east-asian: normal; vertical-align: baseline; white-space: pre-wrap;\">Subqueries, Unions, Derived Tables, Oh My!</span>\n",
    "\n",
    "1. <span style=\"background-color: rgb(255, 255, 255); font-size: 10pt; white-space: pre-wrap; color: rgb(102, 102, 102); font-family: Arvo, serif;\">Write a query that returns the series_id, industry_code, industry_name, and value from the january_2017 table but only if that value is greater than the average value for annual_2016 of data_type_code 82.</span>"
   ]
  },
  {
   "cell_type": "code",
   "execution_count": null,
   "metadata": {
    "azdata_cell_guid": "7c85f70b-528f-4cbd-bd8e-a6efab1c18df"
   },
   "outputs": [],
   "source": [
    "SELECT S.series_id,I.industry_code,I.industry_name ,J.[value] FROM series S \n",
    "Join  industry I ON S.industry_code=I.industry_code Join january_2017 J ON \n",
    "S.series_id=J.series_id Where J.[value] > \n",
    "(SELECT AVG([value])\n",
    "FROM [series] S\n",
    "Join datatype D\n",
    "On S.data_type_code=D.data_type_code\n",
    "Join annual_2016 as A\n",
    "ON S.series_id=A.series_id\n",
    "where D.data_type_code=82)"
   ]
  },
  {
   "cell_type": "markdown",
   "metadata": {
    "azdata_cell_guid": "1bb0ed09-4b02-4132-910e-5903697628af"
   },
   "source": [
    "2. <span style=\"background-color: rgb(255, 255, 255); font-size: 10pt; white-space: pre-wrap; color: rgb(102, 102, 102); font-family: Arvo, serif;\">Create a Union table comparing average weekly earnings&nbsp; of production and nonsupervisory employees between annual_16 and january_17 using the data type 30.&nbsp; Round to the nearest penny.&nbsp; You should have a column for the average earnings and a column for the year, and the period.</span>"
   ]
  },
  {
   "cell_type": "code",
   "execution_count": 10,
   "metadata": {
    "azdata_cell_guid": "0841b6d6-9af2-41ba-8e28-dc40d08bd061"
   },
   "outputs": [
    {
     "ename": "SyntaxError",
     "evalue": "invalid syntax (Temp/ipykernel_35788/2107040823.py, line 1)",
     "output_type": "error",
     "traceback": [
      "\u001b[1;36m  File \u001b[1;32m\"C:\\Users\\pooja\\AppData\\Local\\Temp/ipykernel_35788/2107040823.py\"\u001b[1;36m, line \u001b[1;32m1\u001b[0m\n\u001b[1;33m    USE LaborStatisticsDB;\u001b[0m\n\u001b[1;37m        ^\u001b[0m\n\u001b[1;31mSyntaxError\u001b[0m\u001b[1;31m:\u001b[0m invalid syntax\n"
     ]
    }
   ],
   "source": [
    "USE LaborStatisticsDB;\n",
    "SELECT [value] as average_earnings, [year],[period]\n",
    "FROM annual_2016 A\n",
    "JOIN series B\n",
    "on A.series_id=B.series_id\n",
    "WHERE data_type_code =30\n",
    "UNION\n",
    "SELECT [value] AS average_earnings, [year],[period]\n",
    "FROM january_2017 C\n",
    "JOIN series B\n",
    "on C.series_id=B.series_id\n",
    "WHERE data_type_code =30\n",
    "\n",
    "----subquriees_union_2"
   ]
  },
  {
   "cell_type": "markdown",
   "metadata": {
    "azdata_cell_guid": "780f65a6-b9e7-4f24-9132-293c47f559e8"
   },
   "source": [
    "## <span style=\"font-size:12pt;font-family:Montserrat, sans-serif;color:rgb(53, 74, 95);background-color:rgb(255, 255, 255);font-weight:700;vertical-align:baseline;white-space:pre-wrap;\">Summarize Your Results</span>\n",
    "\n",
    "<span style=\"font-size:10pt;font-family:Arvo, serif;color:rgb(102, 102, 102);background-color:rgb(255, 255, 255);vertical-align:baseline;white-space:pre-wrap;\">With what you know now about the </span> <span style=\"background-color:rgb(255, 255, 255);color:rgb(102, 102, 102);font-family:&quot;Times New Roman&quot;;font-size:13.3333px;white-space:pre-wrap;\">Bureau of Labor Statistics (BLS) Current Employment Survey (CES) results and working with the</span> <span style=\"color:rgb(102, 102, 102);white-space:pre-wrap;font-family:&quot;Times New Roman&quot;;font-size:13.3333px;\">Labor Statistics Database</span><span style=\"background-color:rgb(255, 255, 255);color:rgb(102, 102, 102);font-family:Arvo, serif;font-size:10pt;white-space:pre-wrap;\">, answer the following questions. Note that while this is subjective, you should include relevant data to back up your opinion.</span>\n",
    "\n",
    "1. <span style=\"background-color:rgb(255, 255, 255);font-size:10pt;white-space:pre-wrap;color:rgb(102, 102, 102);font-family:Arvo, serif;\">During which time period did production and nonsupervisory employees fare better?</span>"
   ]
  },
  {
   "cell_type": "markdown",
   "metadata": {
    "azdata_cell_guid": "f11f1fb2-f7d1-41e5-bc9c-84087d7cfc93"
   },
   "source": [
    "Double click here to add yHi Lori\n",
    "\n",
    "\n",
    "\n",
    "Average hourly earning of production and non supervisory employees for the year 2017 is 14.66\n",
    "\n",
    "Average hourly earning of production and non supervisory employees for the year 2016 is 14.52\n",
    "\n",
    "From above data Production and non Supervisory employees for the year 2017 is paid better\n",
    "\n",
    "The time period, which was best for production and nonsupervisory employees, was m01 of year 2017. As that was the highest average weekly earnings."
   ]
  },
  {
   "cell_type": "markdown",
   "metadata": {
    "azdata_cell_guid": "f606e5e5-f6f1-4070-bbfa-e31617b43e56"
   },
   "source": [
    "2. <span style=\"background-color: rgb(255, 255, 255); font-size: 10pt; white-space: pre-wrap; color: rgb(102, 102, 102); font-family: Arvo, serif;\">In which industries did production and nonsupervisory employees fare better?</span>"
   ]
  },
  {
   "cell_type": "markdown",
   "metadata": {
    "azdata_cell_guid": "94e18f5d-b87b-4ba6-b1fd-bde035dafc04"
   },
   "source": [
    "Production and nonsupervisory employees highest of 31.375.Reinsurance carriers industry - Average hourly earnings of\n",
    "\n"
   ]
  },
  {
   "cell_type": "markdown",
   "metadata": {
    "azdata_cell_guid": "101e4449-601a-46c6-b217-23f3339cfa76"
   },
   "source": [
    "3. <span style=\"font-size: 10pt; font-family: Arvo, serif; color: rgb(102, 102, 102); background-color: rgb(255, 255, 255); font-variant-numeric: normal; font-variant-east-asian: normal; vertical-align: baseline; white-space: pre-wrap;\">Now that you have explored the datasets, is there any data or information that you wish you had in this analysis?</span>"
   ]
  },
  {
   "cell_type": "markdown",
   "metadata": {
    "azdata_cell_guid": "d07e9180-f5e0-49b4-b395-2c6c8a5f8aac"
   },
   "source": [
    "Some more years data if it is available we can see how the industry can grow in futurte ."
   ]
  }
 ],
 "metadata": {
  "extensions": {
   "azuredatastudio": {
    "version": 1,
    "views": []
   }
  },
  "kernelspec": {
   "display_name": "Python 3 (ipykernel)",
   "language": "python",
   "name": "python3"
  },
  "language_info": {
   "codemirror_mode": {
    "name": "ipython",
    "version": 3
   },
   "file_extension": ".py",
   "mimetype": "text/x-python",
   "name": "python",
   "nbconvert_exporter": "python",
   "pygments_lexer": "ipython3",
   "version": "3.9.7"
  }
 },
 "nbformat": 4,
 "nbformat_minor": 2
}
